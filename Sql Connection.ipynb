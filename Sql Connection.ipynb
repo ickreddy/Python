{
 "cells": [
  {
   "cell_type": "code",
   "execution_count": 11,
   "id": "6b1b5ff1",
   "metadata": {},
   "outputs": [],
   "source": [
    "import mysql.connector\n",
    "conn=mysql.connector.connect(host=\"localhost\",user=\"root\",password=\"root\",database=\"pythondb\")\n",
    "cur=conn.cursor()\n",
    "cur.execute(\"create table Student(rollno int not null primary key, Name varchar(30) not null, Branch varchar(30) not null, city varchar(20) not null)\")\n",
    "conn.close()"
   ]
  },
  {
   "cell_type": "code",
   "execution_count": 13,
   "id": "5aeef498",
   "metadata": {},
   "outputs": [],
   "source": [
    "import mysql.connector\n",
    "conn=mysql.connector.connect(host=\"localhost\",user=\"root\",password=\"root\",database=\"pythondb\")\n",
    "cur=conn.cursor()\n",
    "q=\"insert into Student(rollno,Name,Branch,city)values(%s,%s,%s,%s)\"\n",
    "v=(101,\"chenna\",\"CSE\",\"Hyd\")\n",
    "try:\n",
    "    cur.execute(q,v)\n",
    "    conn.commit()\n",
    "except:\n",
    "    conn.rollback()\n",
    "\n",
    "conn.close()"
   ]
  },
  {
   "cell_type": "code",
   "execution_count": 14,
   "id": "0e9615a7",
   "metadata": {},
   "outputs": [
    {
     "name": "stdout",
     "output_type": "stream",
     "text": [
      "4 Rows inserted\n"
     ]
    }
   ],
   "source": [
    "import mysql.connector\n",
    "conn=mysql.connector.connect(host=\"localhost\",user=\"root\",password=\"root\",database=\"pythondb\")\n",
    "cur=conn.cursor()\n",
    "q=\"insert into Student(rollno,Name,Branch,city)values(%s,%s,%s,%s)\"\n",
    "v=[(102,\"Raju\",\"CSE\",\"BLR\"),(103,\"Reddy\",\"MBA\",\"Hyd\"),(104,\"Bhargava\",\"CSE\",\"KOL\"),(105,\"Laddu\",\"CSE\",\"MUM\")]\n",
    "try:\n",
    "    cur.executemany(q,v)\n",
    "    conn.commit()\n",
    "except:\n",
    "    conn.rollback()\n",
    "print(cur.rowcount,\"Rows inserted\")\n",
    "conn.close()"
   ]
  },
  {
   "cell_type": "code",
   "execution_count": 15,
   "id": "35b4b557",
   "metadata": {},
   "outputs": [
    {
     "name": "stdout",
     "output_type": "stream",
     "text": [
      "Requirement already satisfied: mysql-connector-python in c:\\users\\chenna.kreddy\\anaconda3\\lib\\site-packages (8.0.32)Note: you may need to restart the kernel to use updated packages.\n",
      "\n",
      "Requirement already satisfied: protobuf<=3.20.3,>=3.11.0 in c:\\users\\chenna.kreddy\\anaconda3\\lib\\site-packages (from mysql-connector-python) (3.20.3)\n"
     ]
    }
   ],
   "source": [
    "pip install mysql-connector-python"
   ]
  },
  {
   "cell_type": "code",
   "execution_count": null,
   "id": "9de7563c",
   "metadata": {},
   "outputs": [],
   "source": []
  }
 ],
 "metadata": {
  "kernelspec": {
   "display_name": "Python 3 (ipykernel)",
   "language": "python",
   "name": "python3"
  },
  "language_info": {
   "codemirror_mode": {
    "name": "ipython",
    "version": 3
   },
   "file_extension": ".py",
   "mimetype": "text/x-python",
   "name": "python",
   "nbconvert_exporter": "python",
   "pygments_lexer": "ipython3",
   "version": "3.9.13"
  }
 },
 "nbformat": 4,
 "nbformat_minor": 5
}
